{
 "metadata": {
  "language_info": {
   "codemirror_mode": {
    "name": "ipython",
    "version": 3
   },
   "file_extension": ".py",
   "mimetype": "text/x-python",
   "name": "python",
   "nbconvert_exporter": "python",
   "pygments_lexer": "ipython3",
   "version": "3.8.2-final"
  },
  "orig_nbformat": 2,
  "kernelspec": {
   "name": "python_defaultSpec_1600387101840",
   "display_name": "Python 3.8.2 64-bit"
  }
 },
 "nbformat": 4,
 "nbformat_minor": 2,
 "cells": [
  {
   "cell_type": "code",
   "execution_count": 5,
   "metadata": {
    "tags": []
   },
   "outputs": [
    {
     "output_type": "stream",
     "name": "stderr",
     "text": "UsageError: Line magic function `%` not found.\n"
    }
   ],
   "source": [
    "import sys\n",
    "import os\n",
    "import re\n",
    "import tweepy\n",
    "from tweepy import OAuthHandler\n",
    "from textblob import TextBlob\n",
    "\n",
    "\n",
    "import numpy as np\n",
    "import pandas as pd\n",
    "from datetime import datetime, timedelta\n",
    "from IPython.display import clear_output\n",
    "from tqdm import tqdm\n",
    "\n",
    "import matplotlib.pyplot as plt\n",
    "import seaborn as sns\n",
    "% matplotlib inline\n",
    "\n",
    "from os import path\n",
    "from PIL import Image\n",
    "from wordcloud import WordCloud, STOPWORDS"
   ]
  },
  {
   "cell_type": "code",
   "execution_count": 6,
   "metadata": {},
   "outputs": [],
   "source": [
    "#@title Enter Twitter Credentials\n",
    "TWITTER_KEY = '' #@param {type:\"string\"}\n",
    "TWITTER_SECRET_KEY = '' #@param {type:\"string\"}"
   ]
  },
  {
   "cell_type": "code",
   "execution_count": 7,
   "metadata": {},
   "outputs": [],
   "source": [
    "# Authenticate\n",
    "auth = tweepy.AppAuthHandler(TWITTER_KEY, TWITTER_SECRET_KEY)\n",
    "\n",
    "api = tweepy.API(auth, wait_on_rate_limit=True,\n",
    "\t\t\t\t   wait_on_rate_limit_notify=True)\n",
    "\n",
    "if (not api):\n",
    "    print (\"Can't Authenticate\")\n",
    "    sys.exit(-1)"
   ]
  },
  {
   "cell_type": "code",
   "execution_count": 31,
   "metadata": {
    "tags": []
   },
   "outputs": [
    {
     "output_type": "stream",
     "name": "stdout",
     "text": "Downloading max 100 tweets\nDownloaded 100 tweets\nDownloaded 100 tweets\n"
    }
   ],
   "source": [
    "#@title Twitter Search API Inputs\n",
    "#@markdown ### Enter Search Query:\n",
    "searchQuery = 'Karachi' #@param {type:\"string\"}\n",
    "#@markdown ### Enter Max Tweets To Scrape:\n",
    "#@markdown #### The Twitter API Rate Limit (currently) is 45,000 tweets every 15 minutes.\n",
    "maxTweets = 100 #@param {type:\"slider\", min:0, max:45000, step:100}\n",
    "Filter_Retweets = True #@param {type:\"boolean\"}\n",
    "\n",
    "tweetsPerQry = 100  # this is the max the API permits\n",
    "tweet_lst = []\n",
    "\n",
    "if Filter_Retweets:\n",
    "  searchQuery = searchQuery + ' -filter:retweets'  # to exclude retweets\n",
    "\n",
    "# If results from a specific ID onwards are reqd, set since_id to that ID.\n",
    "# else default to no lower limit, go as far back as API allows\n",
    "sinceId = None\n",
    "\n",
    "# If results only below a specific ID are, set max_id to that ID.\n",
    "# else default to no upper limit, start from the most recent tweet matching the search query.\n",
    "max_id = -10000000000\n",
    "\n",
    "tweetCount = 0\n",
    "print(\"Downloading max {0} tweets\".format(maxTweets))\n",
    "while tweetCount < maxTweets:\n",
    "    try:\n",
    "        if (max_id <= 0):\n",
    "            if (not sinceId):\n",
    "                new_tweets = api.search(q=searchQuery, count=tweetsPerQry, lang=\"en\")\n",
    "            else:\n",
    "                new_tweets = api.search(q=searchQuery, count=tweetsPerQry,\n",
    "                                        lang=\"en\", since_id=sinceId)\n",
    "        else:\n",
    "            if (not sinceId):\n",
    "                new_tweets = api.search(q=searchQuery, count=tweetsPerQry,\n",
    "                                        lang=\"en\", max_id=str(max_id - 1))\n",
    "            else:\n",
    "                new_tweets = api.search(q=searchQuery, count=tweetsPerQry,\n",
    "                                        lang=\"en\", max_id=str(max_id - 1),\n",
    "                                        since_id=sinceId)\n",
    "        if not new_tweets:\n",
    "            print(\"No more tweets found\")\n",
    "            break\n",
    "        for tweet in new_tweets:\n",
    "          if hasattr(tweet, 'reply_count'):\n",
    "            reply_count = tweet.reply_count\n",
    "          else:\n",
    "            reply_count = 0\n",
    "          if hasattr(tweet, 'retweeted'):\n",
    "            retweeted = tweet.retweeted\n",
    "          else:\n",
    "            retweeted = \"NA\"\n",
    "            \n",
    "          # fixup search query to get topic\n",
    "          topic = searchQuery[:searchQuery.find('-')].capitalize().strip()\n",
    "          \n",
    "          # fixup date\n",
    "          tweetDate = tweet.created_at.date()\n",
    "\n",
    "    \n",
    "          \n",
    "          tweet_lst.append([tweetDate, topic, \n",
    "                      tweet.id, tweet.user.screen_name, tweet.user.name, tweet.user.followers_count, tweet.text, tweet.favorite_count, \n",
    "                   tweet.retweet_count, retweeted, tweet.user.created_at, tweet.user.verified, tweet.user.location, tweet.user.statuses_count, tweet.created_at, tweet.retweeted, tweet.lang, tweet.coordinates])\n",
    "        \n",
    "        tweetCount += len(new_tweets)\n",
    "        print(\"Downloaded {0} tweets\".format(tweetCount))\n",
    "        max_id = new_tweets[-1].id\n",
    "    except tweepy.TweepError as e:\n",
    "        # Just exit if any error\n",
    "        print(\"some error : \" + str(e))\n",
    "        break\n",
    "\n",
    "\n",
    "print(\"Downloaded {0} tweets\".format(tweetCount))"
   ]
  },
  {
   "cell_type": "code",
   "execution_count": 32,
   "metadata": {},
   "outputs": [
    {
     "output_type": "execute_result",
     "data": {
      "text/plain": "     tweet_dt    topic                   id       username  \\\n0  2020-09-18  Karachi  1306750526843949063  Stallion_Soul   \n1  2020-09-18  Karachi  1306749722909003776  Tvvitterlndia   \n2  2020-09-18  Karachi  1306749721998839808       GVS_News   \n3  2020-09-18  Karachi  1306749447523753984   apniwebcompk   \n4  2020-09-18  Karachi  1306749434202595328        VoK_021   \n\n                   name  followers  \\\n0              HORSEMAN        205   \n1               Chiraag        252   \n2  Global Village Space      18823   \n3         Apni Web News        133   \n4      Voice Of Karachi        227   \n\n                                                                                                                                          tweet  \\\n0  @KElectricPk And this is the height of dumbness, which clearly tells how the Customer Service operates without even… https://t.co/949lsqSDcq   \n1   @omarali50 @TheseLongWars Is Shia population equally distributed all over Pakistan or it is mostly concentrated in… https://t.co/dVaNOXKs4F   \n2  In Pakistan, the conviction rate in rape and sexual assault cases is abysmally low, under 3%, estimates the Karachi… https://t.co/V6HJXcKjgQ   \n3                                            Five injured after multi-storey building collapses in Karachi Korangi area https://t.co/IHCuhHMl4h   \n4                                                             New Train coaches for Karachi Circular Railway are ready. https://t.co/oMGCsg3hPh   \n\n   like_count  retweet_count  retweeted  account_start_date  verified_user  \\\n0           0              0      False 2014-10-03 01:30:20          False   \n1           0              0      False 2012-02-05 14:00:18          False   \n2           0              0      False 2016-11-01 09:03:07          False   \n3           0              0      False 2017-08-12 04:16:50          False   \n4           1              0      False 2018-08-30 15:45:57          False   \n\n         location  number_of_tweets       creation_time  retweeted? language  \\\n0            Mars             18083 2020-09-18 00:22:58       False       en   \n1       Yahi-Kahi             16415 2020-09-18 00:19:46       False       en   \n2                             39265 2020-09-18 00:19:46       False       en   \n3        Pakistan            127105 2020-09-18 00:18:41       False       en   \n4  کراچی, پاکستان              6759 2020-09-18 00:18:38       False       en   \n\n  coordinates  \n0        None  \n1        None  \n2        None  \n3        None  \n4        None  ",
      "text/html": "<div>\n<style scoped>\n    .dataframe tbody tr th:only-of-type {\n        vertical-align: middle;\n    }\n\n    .dataframe tbody tr th {\n        vertical-align: top;\n    }\n\n    .dataframe thead th {\n        text-align: right;\n    }\n</style>\n<table border=\"1\" class=\"dataframe\">\n  <thead>\n    <tr style=\"text-align: right;\">\n      <th></th>\n      <th>tweet_dt</th>\n      <th>topic</th>\n      <th>id</th>\n      <th>username</th>\n      <th>name</th>\n      <th>followers</th>\n      <th>tweet</th>\n      <th>like_count</th>\n      <th>retweet_count</th>\n      <th>retweeted</th>\n      <th>account_start_date</th>\n      <th>verified_user</th>\n      <th>location</th>\n      <th>number_of_tweets</th>\n      <th>creation_time</th>\n      <th>retweeted?</th>\n      <th>language</th>\n      <th>coordinates</th>\n    </tr>\n  </thead>\n  <tbody>\n    <tr>\n      <th>0</th>\n      <td>2020-09-18</td>\n      <td>Karachi</td>\n      <td>1306750526843949063</td>\n      <td>Stallion_Soul</td>\n      <td>HORSEMAN</td>\n      <td>205</td>\n      <td>@KElectricPk And this is the height of dumbness, which clearly tells how the Customer Service operates without even… https://t.co/949lsqSDcq</td>\n      <td>0</td>\n      <td>0</td>\n      <td>False</td>\n      <td>2014-10-03 01:30:20</td>\n      <td>False</td>\n      <td>Mars</td>\n      <td>18083</td>\n      <td>2020-09-18 00:22:58</td>\n      <td>False</td>\n      <td>en</td>\n      <td>None</td>\n    </tr>\n    <tr>\n      <th>1</th>\n      <td>2020-09-18</td>\n      <td>Karachi</td>\n      <td>1306749722909003776</td>\n      <td>Tvvitterlndia</td>\n      <td>Chiraag</td>\n      <td>252</td>\n      <td>@omarali50 @TheseLongWars Is Shia population equally distributed all over Pakistan or it is mostly concentrated in… https://t.co/dVaNOXKs4F</td>\n      <td>0</td>\n      <td>0</td>\n      <td>False</td>\n      <td>2012-02-05 14:00:18</td>\n      <td>False</td>\n      <td>Yahi-Kahi</td>\n      <td>16415</td>\n      <td>2020-09-18 00:19:46</td>\n      <td>False</td>\n      <td>en</td>\n      <td>None</td>\n    </tr>\n    <tr>\n      <th>2</th>\n      <td>2020-09-18</td>\n      <td>Karachi</td>\n      <td>1306749721998839808</td>\n      <td>GVS_News</td>\n      <td>Global Village Space</td>\n      <td>18823</td>\n      <td>In Pakistan, the conviction rate in rape and sexual assault cases is abysmally low, under 3%, estimates the Karachi… https://t.co/V6HJXcKjgQ</td>\n      <td>0</td>\n      <td>0</td>\n      <td>False</td>\n      <td>2016-11-01 09:03:07</td>\n      <td>False</td>\n      <td></td>\n      <td>39265</td>\n      <td>2020-09-18 00:19:46</td>\n      <td>False</td>\n      <td>en</td>\n      <td>None</td>\n    </tr>\n    <tr>\n      <th>3</th>\n      <td>2020-09-18</td>\n      <td>Karachi</td>\n      <td>1306749447523753984</td>\n      <td>apniwebcompk</td>\n      <td>Apni Web News</td>\n      <td>133</td>\n      <td>Five injured after multi-storey building collapses in Karachi Korangi area https://t.co/IHCuhHMl4h</td>\n      <td>0</td>\n      <td>0</td>\n      <td>False</td>\n      <td>2017-08-12 04:16:50</td>\n      <td>False</td>\n      <td>Pakistan</td>\n      <td>127105</td>\n      <td>2020-09-18 00:18:41</td>\n      <td>False</td>\n      <td>en</td>\n      <td>None</td>\n    </tr>\n    <tr>\n      <th>4</th>\n      <td>2020-09-18</td>\n      <td>Karachi</td>\n      <td>1306749434202595328</td>\n      <td>VoK_021</td>\n      <td>Voice Of Karachi</td>\n      <td>227</td>\n      <td>New Train coaches for Karachi Circular Railway are ready. https://t.co/oMGCsg3hPh</td>\n      <td>1</td>\n      <td>0</td>\n      <td>False</td>\n      <td>2018-08-30 15:45:57</td>\n      <td>False</td>\n      <td>کراچی, پاکستان</td>\n      <td>6759</td>\n      <td>2020-09-18 00:18:38</td>\n      <td>False</td>\n      <td>en</td>\n      <td>None</td>\n    </tr>\n  </tbody>\n</table>\n</div>"
     },
     "metadata": {},
     "execution_count": 32
    }
   ],
   "source": [
    "pd.set_option('display.max_colwidth', None)\n",
    "\n",
    "# load it into a pandas dataframe\n",
    "tweet_df = pd.DataFrame(tweet_lst, columns=['tweet_dt', 'topic', 'id', 'username', 'name', 'followers', 'tweet', 'like_count', 'retweet_count', 'retweeted', 'account_start_date', 'verified_user', 'location', 'number_of_tweets', 'creation_time', 'retweeted?', 'language', 'coordinates'])\n",
    "\n",
    "tweet_df.head(5)"
   ]
  }
 ]
}