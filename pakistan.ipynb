{
 "metadata": {
  "language_info": {
   "codemirror_mode": {
    "name": "ipython",
    "version": 3
   },
   "file_extension": ".py",
   "mimetype": "text/x-python",
   "name": "python",
   "nbconvert_exporter": "python",
   "pygments_lexer": "ipython3",
   "version": "3.8.2-final"
  },
  "orig_nbformat": 2,
  "kernelspec": {
   "name": "python_defaultSpec_1600403335725",
   "display_name": "Python 3.8.2 64-bit"
  }
 },
 "nbformat": 4,
 "nbformat_minor": 2,
 "cells": [
  {
   "cell_type": "code",
   "execution_count": 1,
   "metadata": {
    "tags": []
   },
   "outputs": [
    {
     "output_type": "stream",
     "name": "stderr",
     "text": "UsageError: Line magic function `%` not found.\n"
    }
   ],
   "source": [
    "import sys\n",
    "import os\n",
    "import re\n",
    "import tweepy\n",
    "from tweepy import OAuthHandler\n",
    "from textblob import TextBlob\n",
    "\n",
    "\n",
    "import numpy as np\n",
    "import pandas as pd\n",
    "from datetime import datetime, timedelta\n",
    "from IPython.display import clear_output\n",
    "from tqdm import tqdm\n",
    "\n",
    "import matplotlib.pyplot as plt\n",
    "import seaborn as sns\n",
    "% matplotlib inline\n",
    "\n",
    "from os import path\n",
    "from PIL import Image\n",
    "from wordcloud import WordCloud, STOPWORDS"
   ]
  },
  {
   "cell_type": "code",
   "execution_count": 2,
   "metadata": {
    "tags": []
   },
   "outputs": [],
   "source": [
    "from flair.data import Sentence\n",
    "from flair.models import SequenceTagger\n",
    "\n",
    "tagger = SequenceTagger.load('ner')\n",
    "\n",
    "clear_output()"
   ]
  },
  {
   "cell_type": "code",
   "execution_count": 3,
   "metadata": {
    "tags": []
   },
   "outputs": [],
   "source": [
    "#import Flair Classifier\n",
    "from flair.models import TextClassifier\n",
    "\n",
    "classifier = TextClassifier.load('en-sentiment')\n",
    "\n",
    "clear_output()"
   ]
  },
  {
   "cell_type": "code",
   "execution_count": 4,
   "metadata": {},
   "outputs": [],
   "source": [
    "#@title Enter Twitter Credentials\n",
    "TWITTER_KEY = 'HTi8RVQq3LczryTEyESQBdqNk' #@param {type:\"string\"}\n",
    "TWITTER_SECRET_KEY = '5VYQAWZTLuBs2p9mbLmkoGvCg7iR0vnXvKMdEDyEGcSKS5jcQk' #@param {type:\"string\"}"
   ]
  },
  {
   "cell_type": "code",
   "execution_count": 5,
   "metadata": {},
   "outputs": [],
   "source": [
    "# Authenticate\n",
    "auth = tweepy.AppAuthHandler(TWITTER_KEY, TWITTER_SECRET_KEY)\n",
    "\n",
    "api = tweepy.API(auth, wait_on_rate_limit=True,\n",
    "\t\t\t\t   wait_on_rate_limit_notify=True)\n",
    "\n",
    "if (not api):\n",
    "    print (\"Can't Authenticate\")\n",
    "    sys.exit(-1)"
   ]
  },
  {
   "cell_type": "code",
   "execution_count": 6,
   "metadata": {
    "tags": []
   },
   "outputs": [
    {
     "output_type": "stream",
     "name": "stdout",
     "text": "Downloading max 100 tweets\nDownloaded 100 tweets\nDownloaded 100 tweets\n"
    }
   ],
   "source": [
    "#@title Twitter Search API Inputs\n",
    "#@markdown ### Enter Search Query:\n",
    "searchQuery = 'Pakistan' #@param {type:\"string\"}\n",
    "#@markdown ### Enter Max Tweets To Scrape:\n",
    "#@markdown #### The Twitter API Rate Limit (currently) is 45,000 tweets every 15 minutes.\n",
    "maxTweets = 100 #@param {type:\"slider\", min:0, max:45000, step:100}\n",
    "Filter_Retweets = True #@param {type:\"boolean\"}\n",
    "\n",
    "tweetsPerQry = 100  # this is the max the API permits\n",
    "tweet_lst = []\n",
    "\n",
    "if Filter_Retweets:\n",
    "  searchQuery = searchQuery + ' -filter:retweets'  # to exclude retweets\n",
    "\n",
    "# If results from a specific ID onwards are reqd, set since_id to that ID.\n",
    "# else default to no lower limit, go as far back as API allows\n",
    "sinceId = None\n",
    "\n",
    "# If results only below a specific ID are, set max_id to that ID.\n",
    "# else default to no upper limit, start from the most recent tweet matching the search query.\n",
    "max_id = -10000000000\n",
    "\n",
    "tweetCount = 0\n",
    "print(\"Downloading max {0} tweets\".format(maxTweets))\n",
    "while tweetCount < maxTweets:\n",
    "    try:\n",
    "        if (max_id <= 0):\n",
    "            if (not sinceId):\n",
    "                new_tweets = api.search(q=searchQuery, count=tweetsPerQry, lang=\"en\")\n",
    "            else:\n",
    "                new_tweets = api.search(q=searchQuery, count=tweetsPerQry,\n",
    "                                        lang=\"en\", since_id=sinceId)\n",
    "        else:\n",
    "            if (not sinceId):\n",
    "                new_tweets = api.search(q=searchQuery, count=tweetsPerQry,\n",
    "                                        lang=\"en\", max_id=str(max_id - 1))\n",
    "            else:\n",
    "                new_tweets = api.search(q=searchQuery, count=tweetsPerQry,\n",
    "                                        lang=\"en\", max_id=str(max_id - 1),\n",
    "                                        since_id=sinceId)\n",
    "        if not new_tweets:\n",
    "            print(\"No more tweets found\")\n",
    "            break\n",
    "        for tweet in new_tweets:\n",
    "          if hasattr(tweet, 'reply_count'):\n",
    "            reply_count = tweet.reply_count\n",
    "          else:\n",
    "            reply_count = 0\n",
    "          if hasattr(tweet, 'retweeted'):\n",
    "            retweeted = tweet.retweeted\n",
    "          else:\n",
    "            retweeted = \"NA\"\n",
    "            \n",
    "          # fixup search query to get topic\n",
    "          topic = searchQuery[:searchQuery.find('-')].capitalize().strip()\n",
    "          \n",
    "          # fixup date\n",
    "          tweetDate = tweet.created_at.date()\n",
    "\n",
    "    \n",
    "          \n",
    "          tweet_lst.append([tweetDate, topic, \n",
    "                      tweet.id, tweet.user.screen_name, tweet.user.name, tweet.user.followers_count, tweet.text, tweet.favorite_count, \n",
    "                    reply_count, tweet.retweet_count, retweeted, tweet.user.created_at, tweet.user.verified, tweet.user.location, tweet.user.statuses_count])\n",
    "        \n",
    "        tweetCount += len(new_tweets)\n",
    "        print(\"Downloaded {0} tweets\".format(tweetCount))\n",
    "        max_id = new_tweets[-1].id\n",
    "    except tweepy.TweepError as e:\n",
    "        # Just exit if any error\n",
    "        print(\"some error : \" + str(e))\n",
    "        break\n",
    "\n",
    "\n",
    "print(\"Downloaded {0} tweets\".format(tweetCount))\n",
    "\n"
   ]
  },
  {
   "cell_type": "code",
   "execution_count": 7,
   "metadata": {},
   "outputs": [
    {
     "output_type": "execute_result",
     "data": {
      "text/plain": "     tweet_dt     topic                   id        username  \\\n0  2020-09-18  Pakistan  1306813944862998532      GujjarJobs   \n1  2020-09-18  Pakistan  1306813944632242176         HBaarot   \n2  2020-09-18  Pakistan  1306813943285862401          krab09   \n3  2020-09-18  Pakistan  1306813879641542656      pardhu_leo   \n4  2020-09-18  Pakistan  1306813878773395457   abidhussainuk   \n5  2020-09-18  Pakistan  1306813850919088130  BhambriKastura   \n6  2020-09-18  Pakistan  1306813841595006976      KabirMohit   \n7  2020-09-18  Pakistan  1306813838474358784      KabirMohit   \n8  2020-09-18  Pakistan  1306813835790045185         Indic_e   \n9  2020-09-18  Pakistan  1306813833693089793   HarisKhalil10   \n\n                              name  followers  \\\n0              Nadeem Anjum Gujjar        157   \n1                      Hiren Barot          0   \n2               Prasad Karambelkar         46   \n3  NRC & UCC Next 🇮🇳 Jai Shri Ram🚩       2072   \n4                              PTI        230   \n5                  Kastura Bhambri        705   \n6                     Mohit Pandey        344   \n7                     Mohit Pandey        344   \n8                        indic 🌧️🌈         69   \n9                     Haris Khalil       3101   \n\n                                                                                                                                           tweet  \\\n0                                                                           The Khyber Pass links which two countries?\\nAfghanistan and Pakistan   \n1   @IMRANKH51363466 @ReallySwara Terror means Islam. Horrible. They marriage with their sisters. Rediculous.  They sta… https://t.co/YFkcg3ux6e   \n2   Suddenly everyone wants to nonch India. Nepal came up with new Maps, Pakistan doing the same. We can very well conn… https://t.co/PiBA65B2QX   \n3                                                                                Entire humanity except #Pakistan #China https://t.co/BzAX0rkJDS   \n4       @FaisalJavedKhan @StateBank_Pak Can you transfer money from existing bank accounts in pakistan into the new roshan digital bank account?   \n5  A country whr terrorists carrying guns can roam more freely than women on streets!\\nWelcm 2 Islamic Republic of Paki… https://t.co/vtG33vN53n   \n6   The PM seemed to have taken the luxury of having Pakistan at hand for granted, and ignored the fact that the nation… https://t.co/KSqliQqxgA   \n7   The prime minister made an error of judgement when he said, “Hum Bajrang Bali ki jai bolkar upar se chale gaye” whi… https://t.co/qJzenjYqOp   \n8        @krupali @USPS @JoeBiden @USPSHelp @OIGUSPS @RexChapman @dog_rates @DoctorsForBiden @KamalaHarris @meenaharris… https://t.co/FsU0cj1UwU   \n9                                                                                         @Shanzayhere It's better to create individual Pakistan   \n\n   like_count  reply_count  retweet_count  retweeted  account_start_date  \\\n0           0            0              0      False 2012-03-13 07:40:41   \n1           0            0              0      False 2017-11-25 12:06:45   \n2           0            0              0      False 2009-10-24 11:01:40   \n3           0            0              0      False 2013-08-13 06:38:31   \n4           0            0              0      False 2013-03-01 17:44:56   \n5           0            0              0      False 2020-01-22 04:20:56   \n6           0            0              0      False 2013-11-14 18:01:01   \n7           0            0              0      False 2013-11-14 18:01:01   \n8           0            0              0      False 2019-09-06 02:25:26   \n9           0            0              0      False 2017-03-31 11:33:53   \n\n   verified_user                   location  number_of_tweets  \n0          False         Kot Gujjran Multan              2958  \n1          False                                           91  \n2          False           Bengaluru, India              4460  \n3          False                     Bharat             83423  \n4          False                         UK             10725  \n5          False         India, Los Angeles               664  \n6          False  Gaya ✈️ New Delhi ✈️ Gaya               783  \n7          False  Gaya ✈️ New Delhi ✈️ Gaya               783  \n8          False         Ram Kund, Pakistan             31979  \n9          False           Lahore pakistan              58027  ",
      "text/html": "<div>\n<style scoped>\n    .dataframe tbody tr th:only-of-type {\n        vertical-align: middle;\n    }\n\n    .dataframe tbody tr th {\n        vertical-align: top;\n    }\n\n    .dataframe thead th {\n        text-align: right;\n    }\n</style>\n<table border=\"1\" class=\"dataframe\">\n  <thead>\n    <tr style=\"text-align: right;\">\n      <th></th>\n      <th>tweet_dt</th>\n      <th>topic</th>\n      <th>id</th>\n      <th>username</th>\n      <th>name</th>\n      <th>followers</th>\n      <th>tweet</th>\n      <th>like_count</th>\n      <th>reply_count</th>\n      <th>retweet_count</th>\n      <th>retweeted</th>\n      <th>account_start_date</th>\n      <th>verified_user</th>\n      <th>location</th>\n      <th>number_of_tweets</th>\n    </tr>\n  </thead>\n  <tbody>\n    <tr>\n      <th>0</th>\n      <td>2020-09-18</td>\n      <td>Pakistan</td>\n      <td>1306813944862998532</td>\n      <td>GujjarJobs</td>\n      <td>Nadeem Anjum Gujjar</td>\n      <td>157</td>\n      <td>The Khyber Pass links which two countries?\\nAfghanistan and Pakistan</td>\n      <td>0</td>\n      <td>0</td>\n      <td>0</td>\n      <td>False</td>\n      <td>2012-03-13 07:40:41</td>\n      <td>False</td>\n      <td>Kot Gujjran Multan</td>\n      <td>2958</td>\n    </tr>\n    <tr>\n      <th>1</th>\n      <td>2020-09-18</td>\n      <td>Pakistan</td>\n      <td>1306813944632242176</td>\n      <td>HBaarot</td>\n      <td>Hiren Barot</td>\n      <td>0</td>\n      <td>@IMRANKH51363466 @ReallySwara Terror means Islam. Horrible. They marriage with their sisters. Rediculous.  They sta… https://t.co/YFkcg3ux6e</td>\n      <td>0</td>\n      <td>0</td>\n      <td>0</td>\n      <td>False</td>\n      <td>2017-11-25 12:06:45</td>\n      <td>False</td>\n      <td></td>\n      <td>91</td>\n    </tr>\n    <tr>\n      <th>2</th>\n      <td>2020-09-18</td>\n      <td>Pakistan</td>\n      <td>1306813943285862401</td>\n      <td>krab09</td>\n      <td>Prasad Karambelkar</td>\n      <td>46</td>\n      <td>Suddenly everyone wants to nonch India. Nepal came up with new Maps, Pakistan doing the same. We can very well conn… https://t.co/PiBA65B2QX</td>\n      <td>0</td>\n      <td>0</td>\n      <td>0</td>\n      <td>False</td>\n      <td>2009-10-24 11:01:40</td>\n      <td>False</td>\n      <td>Bengaluru, India</td>\n      <td>4460</td>\n    </tr>\n    <tr>\n      <th>3</th>\n      <td>2020-09-18</td>\n      <td>Pakistan</td>\n      <td>1306813879641542656</td>\n      <td>pardhu_leo</td>\n      <td>NRC &amp; UCC Next 🇮🇳 Jai Shri Ram🚩</td>\n      <td>2072</td>\n      <td>Entire humanity except #Pakistan #China https://t.co/BzAX0rkJDS</td>\n      <td>0</td>\n      <td>0</td>\n      <td>0</td>\n      <td>False</td>\n      <td>2013-08-13 06:38:31</td>\n      <td>False</td>\n      <td>Bharat</td>\n      <td>83423</td>\n    </tr>\n    <tr>\n      <th>4</th>\n      <td>2020-09-18</td>\n      <td>Pakistan</td>\n      <td>1306813878773395457</td>\n      <td>abidhussainuk</td>\n      <td>PTI</td>\n      <td>230</td>\n      <td>@FaisalJavedKhan @StateBank_Pak Can you transfer money from existing bank accounts in pakistan into the new roshan digital bank account?</td>\n      <td>0</td>\n      <td>0</td>\n      <td>0</td>\n      <td>False</td>\n      <td>2013-03-01 17:44:56</td>\n      <td>False</td>\n      <td>UK</td>\n      <td>10725</td>\n    </tr>\n    <tr>\n      <th>5</th>\n      <td>2020-09-18</td>\n      <td>Pakistan</td>\n      <td>1306813850919088130</td>\n      <td>BhambriKastura</td>\n      <td>Kastura Bhambri</td>\n      <td>705</td>\n      <td>A country whr terrorists carrying guns can roam more freely than women on streets!\\nWelcm 2 Islamic Republic of Paki… https://t.co/vtG33vN53n</td>\n      <td>0</td>\n      <td>0</td>\n      <td>0</td>\n      <td>False</td>\n      <td>2020-01-22 04:20:56</td>\n      <td>False</td>\n      <td>India, Los Angeles</td>\n      <td>664</td>\n    </tr>\n    <tr>\n      <th>6</th>\n      <td>2020-09-18</td>\n      <td>Pakistan</td>\n      <td>1306813841595006976</td>\n      <td>KabirMohit</td>\n      <td>Mohit Pandey</td>\n      <td>344</td>\n      <td>The PM seemed to have taken the luxury of having Pakistan at hand for granted, and ignored the fact that the nation… https://t.co/KSqliQqxgA</td>\n      <td>0</td>\n      <td>0</td>\n      <td>0</td>\n      <td>False</td>\n      <td>2013-11-14 18:01:01</td>\n      <td>False</td>\n      <td>Gaya ✈️ New Delhi ✈️ Gaya</td>\n      <td>783</td>\n    </tr>\n    <tr>\n      <th>7</th>\n      <td>2020-09-18</td>\n      <td>Pakistan</td>\n      <td>1306813838474358784</td>\n      <td>KabirMohit</td>\n      <td>Mohit Pandey</td>\n      <td>344</td>\n      <td>The prime minister made an error of judgement when he said, “Hum Bajrang Bali ki jai bolkar upar se chale gaye” whi… https://t.co/qJzenjYqOp</td>\n      <td>0</td>\n      <td>0</td>\n      <td>0</td>\n      <td>False</td>\n      <td>2013-11-14 18:01:01</td>\n      <td>False</td>\n      <td>Gaya ✈️ New Delhi ✈️ Gaya</td>\n      <td>783</td>\n    </tr>\n    <tr>\n      <th>8</th>\n      <td>2020-09-18</td>\n      <td>Pakistan</td>\n      <td>1306813835790045185</td>\n      <td>Indic_e</td>\n      <td>indic 🌧️🌈</td>\n      <td>69</td>\n      <td>@krupali @USPS @JoeBiden @USPSHelp @OIGUSPS @RexChapman @dog_rates @DoctorsForBiden @KamalaHarris @meenaharris… https://t.co/FsU0cj1UwU</td>\n      <td>0</td>\n      <td>0</td>\n      <td>0</td>\n      <td>False</td>\n      <td>2019-09-06 02:25:26</td>\n      <td>False</td>\n      <td>Ram Kund, Pakistan</td>\n      <td>31979</td>\n    </tr>\n    <tr>\n      <th>9</th>\n      <td>2020-09-18</td>\n      <td>Pakistan</td>\n      <td>1306813833693089793</td>\n      <td>HarisKhalil10</td>\n      <td>Haris Khalil</td>\n      <td>3101</td>\n      <td>@Shanzayhere It's better to create individual Pakistan</td>\n      <td>0</td>\n      <td>0</td>\n      <td>0</td>\n      <td>False</td>\n      <td>2017-03-31 11:33:53</td>\n      <td>False</td>\n      <td>Lahore pakistan</td>\n      <td>58027</td>\n    </tr>\n  </tbody>\n</table>\n</div>"
     },
     "metadata": {},
     "execution_count": 7
    }
   ],
   "source": [
    "pd.set_option('display.max_colwidth', None)\n",
    "\n",
    "# load it into a pandas dataframe\n",
    "df_p = pd.DataFrame(tweet_lst, columns=['tweet_dt', 'topic', 'id', 'username', 'name', 'followers', 'tweet', 'like_count', 'reply_count', 'retweet_count', 'retweeted', 'account_start_date', 'verified_user', 'location', 'number_of_tweets'])\n",
    "\n",
    "df_p.head(10)"
   ]
  },
  {
   "cell_type": "code",
   "execution_count": 18,
   "metadata": {},
   "outputs": [
    {
     "output_type": "error",
     "ename": "NameError",
     "evalue": "name 'tweet_df' is not defined",
     "traceback": [
      "\u001b[1;31m---------------------------------------------------------------------------\u001b[0m",
      "\u001b[1;31mNameError\u001b[0m                                 Traceback (most recent call last)",
      "\u001b[1;32m<ipython-input-18-9edf73b69ac8>\u001b[0m in \u001b[0;36m<module>\u001b[1;34m\u001b[0m\n\u001b[0;32m     18\u001b[0m \u001b[1;33m\u001b[0m\u001b[0m\n\u001b[0;32m     19\u001b[0m df_p = df_p[(df_p['tweet_dt'] >= start_dt) \n\u001b[1;32m---> 20\u001b[1;33m                     & (tweet_df['tweet_dt'] <= end_dt)]\n\u001b[0m\u001b[0;32m     21\u001b[0m \u001b[0mdf_p\u001b[0m\u001b[1;33m.\u001b[0m\u001b[0mshape\u001b[0m\u001b[1;33m\u001b[0m\u001b[1;33m\u001b[0m\u001b[0m\n",
      "\u001b[1;31mNameError\u001b[0m: name 'tweet_df' is not defined"
     ]
    }
   ],
   "source": [
    "#@title Filter By Date Range\n",
    "today = datetime.now().date()\n",
    "yesterday = today - timedelta(1)\n",
    "\n",
    "start_dt = '2020-09-01' #@param {type:\"date\"}\n",
    "end_dt = '2020-09-14' #@param {type:\"date\"}\n",
    "\n",
    "if start_dt == '':\n",
    "  start_dt = yesterday\n",
    "else:\n",
    "  start_dt = datetime.strptime(start_dt, '%Y-%m-%d').date()\n",
    "\n",
    "if end_dt == '':\n",
    "  end_dt = today\n",
    "else:\n",
    "  end_dt = datetime.strptime(end_dt, '%Y-%m-%d').date()\n",
    "\n",
    "\n",
    "df_p = df_p[(df_p['tweet_dt'] >= start_dt) \n",
    "                    & (tweet_df['tweet_dt'] <= end_dt)]\n",
    "df_p.shape"
   ]
  },
  {
   "cell_type": "code",
   "execution_count": 23,
   "metadata": {
    "tags": []
   },
   "outputs": [],
   "source": [
    "#predict NER\n",
    "nerlst = []\n",
    "\n",
    "for index, row in tqdm(df_p.iterrows(), total=df_p.shape[0]):\n",
    "  cleanedTweet = row['tweet'].replace(\"#\", \"\")\n",
    "  sentence = Sentence(cleanedTweet, use_tokenizer=True)\n",
    "  \n",
    "  # predict NER tags\n",
    "  tagger.predict(sentence)\n",
    "\n",
    "  # get ner\n",
    "  ners = sentence.to_dict(tag_type='ner')['entities']\n",
    "  \n",
    "  # predict sentiment\n",
    "  classifier.predict(sentence)\n",
    "  \n",
    "  label = sentence.labels[0]\n",
    "  response = {'result': label.value, 'polarity':label.score}\n",
    "  \n",
    "  # get hashtags\n",
    "  hashtags = re.findall(r'#\\w+', row['tweet'])\n",
    "  if len(hashtags) >= 1:\n",
    "    for hashtag in hashtags:\n",
    "      ners.append({ 'type': 'Hashtag', 'text': hashtag })\n",
    "  \n",
    "  for ner in ners:\n",
    "    adj_polarity = response['polarity']\n",
    "    if response['result'] == 'NEGATIVE':\n",
    "      adj_polarity = response['polarity'] * -1\n",
    "    try:\n",
    "      ner['type']\n",
    "    except:\n",
    "      ner['type'] = ''      \n",
    "    nerlst.append([ row['tweet_dt'], row['topic'], row['id'], row['username'], \n",
    "                   row['name'], row['followers'], row['tweet'], ner['type'], ner['text'], response['result'], \n",
    "                   response['polarity'], adj_polarity, row['like_count'], row['reply_count'], \n",
    "                  row['retweet_count'], row['account_start_date'], row['verified_user'], row['location'], row['number_of_tweets'] ])\n",
    "\n",
    "clear_output()"
   ]
  },
  {
   "cell_type": "code",
   "execution_count": 25,
   "metadata": {},
   "outputs": [],
   "source": [
    "df_pner = pd.DataFrame(nerlst, columns=['tweet_dt', 'topic', 'id', 'username', 'name', 'followers', 'tweet', 'tag_type', 'tag', 'sentiment', 'polarity', \n",
    "                                      'adj_polarity', 'like_count', 'reply_count', 'retweet_count', 'account_start_date', 'verified_user', 'location', 'number_of_tweets'])\n",
    "\n"
   ]
  },
  {
   "cell_type": "code",
   "execution_count": 26,
   "metadata": {},
   "outputs": [],
   "source": [
    "def days_before(date):\n",
    "  if date and date != 0 or date != '0':\n",
    "      date = str(date)\n",
    "      date = date.split()[0]\n",
    "      now = str(datetime.now())\n",
    "      now = now.split()[0]\n",
    "      d1 = datetime.strptime(date, \"%Y-%m-%d\")\n",
    "      d2 = datetime.strptime(now, \"%Y-%m-%d\")\n",
    "      return abs((d2 - d1).days)\n",
    "  else:\n",
    "    return ''"
   ]
  },
  {
   "cell_type": "code",
   "execution_count": 32,
   "metadata": {},
   "outputs": [
    {
     "output_type": "execute_result",
     "data": {
      "text/plain": "       tweet_dt     topic                   id    username  \\\n222  2020-09-18  Pakistan  1306812319708528641  mohandixit   \n223  2020-09-18  Pakistan  1306812294853165057    ImranInc   \n224  2020-09-18  Pakistan  1306812294853165057    ImranInc   \n225  2020-09-18  Pakistan  1306812294853165057    ImranInc   \n226  2020-09-18  Pakistan  1306812294853165057    ImranInc   \n\n                   name  number of followers  \\\n222  INDIAN. HINDUSTANI                   86   \n223         Imran Ahmad                 5451   \n224         Imran Ahmad                 5451   \n225         Imran Ahmad                 5451   \n226         Imran Ahmad                 5451   \n\n                                                                                                                                            tweet  \\\n222  @RvUpadhya @dineshgrao He will not talk about Chinese virus or Chinese aggression. Or about PAKISTAN TERRORISM beca… https://t.co/YsCNc9ljIP   \n223  PMIK address at the 4th Annual Austrian World Summit explains how Pakistan took revolutionary steps through plantin… https://t.co/QNK3tIaEbs   \n224  PMIK address at the 4th Annual Austrian World Summit explains how Pakistan took revolutionary steps through plantin… https://t.co/QNK3tIaEbs   \n225  PMIK address at the 4th Annual Austrian World Summit explains how Pakistan took revolutionary steps through plantin… https://t.co/QNK3tIaEbs   \n226  PMIK address at the 4th Annual Austrian World Summit explains how Pakistan took revolutionary steps through plantin… https://t.co/QNK3tIaEbs   \n\n    tag_type                    tag sentiment  polarity  like_count  \\\n222                        PAKISTAN  NEGATIVE -0.993165           0   \n223                            PMIK  POSITIVE  0.723712           1   \n224                      4th Annual  POSITIVE  0.723712           1   \n225           Austrian World Summit  POSITIVE  0.723712           1   \n226                        Pakistan  POSITIVE  0.723712           1   \n\n     reply_count  retweet_count  account_start_date  verified_user location  \\\n222            0              0 2011-11-17 03:29:40          False            \n223            0              1 2011-10-30 15:34:31          False            \n224            0              1 2011-10-30 15:34:31          False            \n225            0              1 2011-10-30 15:34:31          False            \n226            0              1 2011-10-30 15:34:31          False            \n\n     total number of tweets  \n222                   14280  \n223                   40869  \n224                   40869  \n225                   40869  \n226                   40869  ",
      "text/html": "<div>\n<style scoped>\n    .dataframe tbody tr th:only-of-type {\n        vertical-align: middle;\n    }\n\n    .dataframe tbody tr th {\n        vertical-align: top;\n    }\n\n    .dataframe thead th {\n        text-align: right;\n    }\n</style>\n<table border=\"1\" class=\"dataframe\">\n  <thead>\n    <tr style=\"text-align: right;\">\n      <th></th>\n      <th>tweet_dt</th>\n      <th>topic</th>\n      <th>id</th>\n      <th>username</th>\n      <th>name</th>\n      <th>number of followers</th>\n      <th>tweet</th>\n      <th>tag_type</th>\n      <th>tag</th>\n      <th>sentiment</th>\n      <th>polarity</th>\n      <th>like_count</th>\n      <th>reply_count</th>\n      <th>retweet_count</th>\n      <th>account_start_date</th>\n      <th>verified_user</th>\n      <th>location</th>\n      <th>total number of tweets</th>\n    </tr>\n  </thead>\n  <tbody>\n    <tr>\n      <th>222</th>\n      <td>2020-09-18</td>\n      <td>Pakistan</td>\n      <td>1306812319708528641</td>\n      <td>mohandixit</td>\n      <td>INDIAN. HINDUSTANI</td>\n      <td>86</td>\n      <td>@RvUpadhya @dineshgrao He will not talk about Chinese virus or Chinese aggression. Or about PAKISTAN TERRORISM beca… https://t.co/YsCNc9ljIP</td>\n      <td></td>\n      <td>PAKISTAN</td>\n      <td>NEGATIVE</td>\n      <td>-0.993165</td>\n      <td>0</td>\n      <td>0</td>\n      <td>0</td>\n      <td>2011-11-17 03:29:40</td>\n      <td>False</td>\n      <td></td>\n      <td>14280</td>\n    </tr>\n    <tr>\n      <th>223</th>\n      <td>2020-09-18</td>\n      <td>Pakistan</td>\n      <td>1306812294853165057</td>\n      <td>ImranInc</td>\n      <td>Imran Ahmad</td>\n      <td>5451</td>\n      <td>PMIK address at the 4th Annual Austrian World Summit explains how Pakistan took revolutionary steps through plantin… https://t.co/QNK3tIaEbs</td>\n      <td></td>\n      <td>PMIK</td>\n      <td>POSITIVE</td>\n      <td>0.723712</td>\n      <td>1</td>\n      <td>0</td>\n      <td>1</td>\n      <td>2011-10-30 15:34:31</td>\n      <td>False</td>\n      <td></td>\n      <td>40869</td>\n    </tr>\n    <tr>\n      <th>224</th>\n      <td>2020-09-18</td>\n      <td>Pakistan</td>\n      <td>1306812294853165057</td>\n      <td>ImranInc</td>\n      <td>Imran Ahmad</td>\n      <td>5451</td>\n      <td>PMIK address at the 4th Annual Austrian World Summit explains how Pakistan took revolutionary steps through plantin… https://t.co/QNK3tIaEbs</td>\n      <td></td>\n      <td>4th Annual</td>\n      <td>POSITIVE</td>\n      <td>0.723712</td>\n      <td>1</td>\n      <td>0</td>\n      <td>1</td>\n      <td>2011-10-30 15:34:31</td>\n      <td>False</td>\n      <td></td>\n      <td>40869</td>\n    </tr>\n    <tr>\n      <th>225</th>\n      <td>2020-09-18</td>\n      <td>Pakistan</td>\n      <td>1306812294853165057</td>\n      <td>ImranInc</td>\n      <td>Imran Ahmad</td>\n      <td>5451</td>\n      <td>PMIK address at the 4th Annual Austrian World Summit explains how Pakistan took revolutionary steps through plantin… https://t.co/QNK3tIaEbs</td>\n      <td></td>\n      <td>Austrian World Summit</td>\n      <td>POSITIVE</td>\n      <td>0.723712</td>\n      <td>1</td>\n      <td>0</td>\n      <td>1</td>\n      <td>2011-10-30 15:34:31</td>\n      <td>False</td>\n      <td></td>\n      <td>40869</td>\n    </tr>\n    <tr>\n      <th>226</th>\n      <td>2020-09-18</td>\n      <td>Pakistan</td>\n      <td>1306812294853165057</td>\n      <td>ImranInc</td>\n      <td>Imran Ahmad</td>\n      <td>5451</td>\n      <td>PMIK address at the 4th Annual Austrian World Summit explains how Pakistan took revolutionary steps through plantin… https://t.co/QNK3tIaEbs</td>\n      <td></td>\n      <td>Pakistan</td>\n      <td>POSITIVE</td>\n      <td>0.723712</td>\n      <td>1</td>\n      <td>0</td>\n      <td>1</td>\n      <td>2011-10-30 15:34:31</td>\n      <td>False</td>\n      <td></td>\n      <td>40869</td>\n    </tr>\n  </tbody>\n</table>\n</div>"
     },
     "metadata": {},
     "execution_count": 32
    }
   ],
   "source": [
    "#This cell does main data analysis\n",
    "df_pner2 = df_p\n",
    "#Removes all the duplicate tweets\n",
    "df_pner2 = df_pner.drop_duplicates(subset = 'id')\n",
    "df_pner2 = df_pner.reset_index(drop = True)\n",
    "del df_pner2['polarity']\n",
    "#df_pner2['mean polarity'] = df_p['adj_polarity'].mean()\n",
    "#df_pner2['polarity standard deviation'] = df_p['adj_polarity'].std(axis = 0, ddof = 0)\n",
    "#df_pner2['average daily tweets'] = 0\n",
    "#df_pner2 = df_ner_1[['tweet_dt',\t'topic',\t'id',\t'username',\t'name',\t'followers',\t'tweet',\t'tag', 'tag_type',\t'average daily tweets', 'sentiment', 'adj_polarity',\t'mean polarity',\t'polarity standard deviation', 'like_count',\t'reply_count',\t'retweet_count', 'account_start_date', 'verified_user', 'location', 'number_of_tweets']]\n",
    "\n",
    "\n",
    "#df_pner2['account_start_date'] = df_ner_1['account_start_date'].apply(days_before)\n",
    "#df_pner2['average daily tweets'] = df_ner_1['number_of_tweets']/df_ner_1['account_start_date']\n",
    "#del df_pner2['account_start_date']\n",
    "\n",
    "df_pner2.rename(columns = {'followers': 'number of followers', 'adj_polarity': 'polarity', 'number_of_tweets': 'total number of tweets'}, inplace = True)\n",
    "# df_ner_1 = df_ner_1.sort_values(by = 'average daily tweets', ascending=False)\n",
    "df_pner2.tail()"
   ]
  },
  {
   "cell_type": "code",
   "execution_count": 33,
   "metadata": {},
   "outputs": [],
   "source": [
    "#Saves as csv\n",
    "file_name = 'pakistan_data.csv'\n",
    "df_pner2.to_csv(file_name, index = False)"
   ]
  },
  {
   "cell_type": "code",
   "execution_count": null,
   "metadata": {},
   "outputs": [],
   "source": []
  }
 ]
}